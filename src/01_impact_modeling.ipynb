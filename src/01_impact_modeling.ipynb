{
  "nbformat": 4,
  "nbformat_minor": 0,
  "metadata": {
    "colab": {
      "provenance": []
    },
    "kernelspec": {
      "name": "python3",
      "display_name": "Python 3"
    },
    "language_info": {
      "name": "python"
    }
  },
  "cells": [
    {
      "cell_type": "code",
      "execution_count": null,
      "metadata": {
        "id": "B7fQUq1pQewG"
      },
      "outputs": [],
      "source": [
        "# 1. Imports & Config\n",
        "import numpy as np\n",
        "import pandas as pd\n",
        "import matplotlib.pyplot as plt\n",
        "\n",
        "from src.data_loader       import load_all_tickers\n",
        "from src.slippage_simulator import build_impact_curve\n",
        "from src.model_fit        import fit_power_law, fit_alpha_time_varying\n",
        "from src.execution_schedule import static_schedule, rolling_schedule\n",
        "\n",
        "# 2. Load Data\n",
        "paths = {\n",
        "    'TICKA': 'data/TICKA.csv',\n",
        "    'TICKB': 'data/TICKB.csv',\n",
        "    'TICKC': 'data/TICKC.csv'\n",
        "}\n",
        "lob = load_all_tickers(paths)\n",
        "\n",
        "# 3. Build Impact Curves\n",
        "size_grid = np.arange(10, 360, 10)\n",
        "impact_curves = {}\n",
        "for tic,df in lob.items():\n",
        "    x,slip = build_impact_curve(df, size_grid, side='buy')\n",
        "    impact_curves[tic] = (x, slip)\n",
        "    plt.loglog(x, slip, label=tic)\n",
        "plt.xlabel('Order size')\n",
        "plt.ylabel('Avg slippage')\n",
        "plt.legend(); plt.show()\n",
        "\n",
        "# 4. Fit Power-Law\n",
        "fits = {}\n",
        "for tic,(x,slip) in impact_curves.items():\n",
        "    α,γ,R2 = fit_power_law(x, slip)\n",
        "    fits[tic] = (α,γ,R2)\n",
        "    print(f\"{tic}: α={α:.4f}, γ={γ:.2f}, R²={R2:.2f}\")\n",
        "\n",
        "# 5. Time-Varying αₜ\n",
        "# Example for one ticker\n",
        "df = lob['TICKA']\n",
        "# calculate spread and depth\n",
        "df['spread'] = df['ask_prices'].apply(lambda p: p[0]) - df['bid_prices'].apply(lambda p: p[0])\n",
        "df['depth']  = df['bid_sizes'].apply(lambda s: sum(s)) + df['ask_sizes'].apply(lambda s: sum(s))\n",
        "# estimate αₜ from impact curves (invert x^γ)\n",
        "α_t_est = []\n",
        "for _,row in df.iterrows():\n",
        "    # pick small x to proxy αₜ: αₜ ≈ gₜ(x)/x^γ\n",
        "    α_t_est.append(simulate_slippage(row, size_grid[0],'buy')/size_grid[0]**fits['TICKA'][1])\n",
        "α_t_est = np.array(α_t_est)\n",
        "β, R2_tv = fit_alpha_time_varying(df['spread'].values, df['depth'].values, α_t_est)\n",
        "print(\"Time-varying α params:\", β, \"R²:\", R2_tv)\n",
        "\n",
        "# 6. Build Schedule\n",
        "α_forecast = β[0] + β[1]*df['spread'] + β[2]/df['depth']\n",
        "S = 1000\n",
        "x_static  = static_schedule(α_forecast.values, fits['TICKA'][1], S)\n",
        "x_rolling = rolling_schedule(α_forecast.values, fits['TICKA'][1], S)\n",
        "\n",
        "plt.plot(x_static, label='static')\n",
        "plt.plot(x_rolling, label='rolling')\n",
        "plt.legend(); plt.show()\n"
      ]
    }
  ]
}